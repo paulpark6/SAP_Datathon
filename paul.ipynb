{
 "cells": [
  {
   "cell_type": "code",
   "execution_count": 1,
   "metadata": {},
   "outputs": [],
   "source": [
    "import pandas as pd"
   ]
  },
  {
   "cell_type": "code",
   "execution_count": 3,
   "metadata": {},
   "outputs": [
    {
     "name": "stderr",
     "output_type": "stream",
     "text": [
      "C:\\Users\\06pau\\AppData\\Local\\Temp\\ipykernel_16432\\1121940578.py:1: DtypeWarning: Columns (7) have mixed types. Specify dtype option on import or set low_memory=False.\n",
      "  df = pd.read_csv('./data/SAP Datasets.csv')\n"
     ]
    }
   ],
   "source": [
    "df = pd.read_csv('./data/SAP Datasets.csv')"
   ]
  },
  {
   "cell_type": "markdown",
   "metadata": {},
   "source": [
    "## Data Preparation\n",
    "\n",
    "### Merge Columns\n",
    "\n",
    "- Combine \"Indicator Name\" and \"Topic\" to new column \"Indicator Name Topic\"\n",
    "\n",
    "- Make sure there are no duplicates for \"Indicator Name Topic\"\n",
    "\n",
    "### Subset Data\n",
    "\n",
    "- Create a new data frame where you keep \"Country Name\", \"Indicator Name Topic\" and all years from 2000 to 2023 for each unique \"Indicator Name Topic\"\n",
    "\n",
    "### Group Data\n",
    "\n",
    "- For each (Country, Indicator Name Topic) create a unique regression line or any other method to fill in blanks, data is ordered by year"
   ]
  },
  {
   "cell_type": "code",
   "execution_count": null,
   "metadata": {},
   "outputs": [],
   "source": []
  },
  {
   "cell_type": "markdown",
   "metadata": {},
   "source": [
    "## MPI\n",
    "\n",
    "### Calculating Score for each Indicator\n",
    "\n",
    "- perform some analysis on to check the spread of the values per year for same indicator for all countries\n",
    "\n",
    "- purpose of this is to find groupings and giving it a value for each group to create ordinary categorical variables\n",
    "\n",
    "- each country and each indicator name would have a score ranging from 1 to n (n is the number of ordinal groups); We need to decide if 1 is good or 5 is good.\n",
    "\n",
    "- if a row has no values for all years then automatically a score of 0 would be given\n",
    "\n",
    "### Final Score calculation\n",
    "\n",
    "- now that we have all scores for all country and all indicators we can group by country and sum the scores to find the final MPI\n",
    "\n",
    "- then we order by MPI and this will be the MPI index of this country"
   ]
  },
  {
   "cell_type": "code",
   "execution_count": null,
   "metadata": {},
   "outputs": [],
   "source": []
  }
 ],
 "metadata": {
  "kernelspec": {
   "display_name": "Python 3",
   "language": "python",
   "name": "python3"
  },
  "language_info": {
   "codemirror_mode": {
    "name": "ipython",
    "version": 3
   },
   "file_extension": ".py",
   "mimetype": "text/x-python",
   "name": "python",
   "nbconvert_exporter": "python",
   "pygments_lexer": "ipython3",
   "version": "3.12.2"
  }
 },
 "nbformat": 4,
 "nbformat_minor": 2
}
