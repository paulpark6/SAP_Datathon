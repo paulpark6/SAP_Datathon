{
 "cells": [
  {
   "cell_type": "code",
   "execution_count": 1,
   "metadata": {},
   "outputs": [],
   "source": [
    "import pandas as pd"
   ]
  },
  {
   "cell_type": "code",
   "execution_count": 2,
   "metadata": {},
   "outputs": [
    {
     "name": "stderr",
     "output_type": "stream",
     "text": [
      "C:\\Users\\06pau\\AppData\\Local\\Temp\\ipykernel_13952\\1121940578.py:1: DtypeWarning: Columns (7) have mixed types. Specify dtype option on import or set low_memory=False.\n",
      "  df = pd.read_csv('./data/SAP Datasets.csv')\n"
     ]
    }
   ],
   "source": [
    "df = pd.read_csv('./data/SAP Datasets.csv')"
   ]
  },
  {
   "cell_type": "markdown",
   "metadata": {},
   "source": [
    "## Data Preparation\n",
    "\n",
    "### Merge Columns\n",
    "\n",
    "- Combine \"Indicator Name\" and \"Topic\" to new column \"Indicator Name Topic\"\n",
    "\n",
    "- Make sure there are no duplicates for \"Indicator Name Topic\"\n",
    "\n",
    "### Subset Data\n",
    "\n",
    "- Create a new data frame where you keep \"Country Name\", \"Indicator Name Topic\" and all years from 2000 to 2023 for each unique \"Indicator Name Topic\"\n",
    "\n",
    "### Group Data\n",
    "\n",
    "- For each (Country, Indicator Name Topic) create a unique regression line or any other method to fill in blanks, data is ordered by year"
   ]
  },
  {
   "cell_type": "code",
   "execution_count": 3,
   "metadata": {},
   "outputs": [],
   "source": [
    "# Forward and backward filling\n",
    "years_col = [str(i) for i in range(2000,2024)]\n",
    "df[years_col] = df[years_col].apply(lambda row: row.ffill().bfill(), axis=1)"
   ]
  },
  {
   "cell_type": "code",
   "execution_count": 4,
   "metadata": {},
   "outputs": [],
   "source": [
    "indicator_lists = df['Indicator Name'].unique().tolist()"
   ]
  },
  {
   "cell_type": "markdown",
   "metadata": {},
   "source": [
    "## Temp analysis to check null indicator per country"
   ]
  },
  {
   "cell_type": "code",
   "execution_count": 13,
   "metadata": {},
   "outputs": [],
   "source": [
    "# Create a new dataframe to store the count of non-null values for each country and indicator\n",
    "count_df = df[['Country Name', 'Indicator Name'] + years_col].copy()\n",
    "\n",
    "# Count the number of non-null values for each row (country and indicator) across the specified years\n",
    "count_df['non_null_count'] = count_df[years_col].notnull().sum(axis=1)\n",
    "\n",
    "# Convert the count to 1 if all years are non-null, otherwise 0\n",
    "count_df['count'] = count_df['non_null_count'].apply(lambda x: 1 if x == len(years_col) else 0)\n",
    "\n",
    "# Group by country and sum the counts\n",
    "result_df = count_df.groupby('Country Name')['count'].sum().reset_index()\n",
    "\n",
    "# Rename columns\n",
    "result_df.columns = ['Country Name', 'Count']\n",
    "result_df.sort_values(by='Count', ascending=True, inplace=True)\n",
    "\n"
   ]
  },
  {
   "cell_type": "code",
   "execution_count": 14,
   "metadata": {},
   "outputs": [
    {
     "data": {
      "text/html": [
       "<div>\n",
       "<style scoped>\n",
       "    .dataframe tbody tr th:only-of-type {\n",
       "        vertical-align: middle;\n",
       "    }\n",
       "\n",
       "    .dataframe tbody tr th {\n",
       "        vertical-align: top;\n",
       "    }\n",
       "\n",
       "    .dataframe thead th {\n",
       "        text-align: right;\n",
       "    }\n",
       "</style>\n",
       "<table border=\"1\" class=\"dataframe\">\n",
       "  <thead>\n",
       "    <tr style=\"text-align: right;\">\n",
       "      <th></th>\n",
       "      <th>Country Name</th>\n",
       "      <th>Count</th>\n",
       "    </tr>\n",
       "  </thead>\n",
       "  <tbody>\n",
       "    <tr>\n",
       "      <th>183</th>\n",
       "      <td>Not classified</td>\n",
       "      <td>0</td>\n",
       "    </tr>\n",
       "    <tr>\n",
       "      <th>227</th>\n",
       "      <td>St. Martin (French part)</td>\n",
       "      <td>11</td>\n",
       "    </tr>\n",
       "    <tr>\n",
       "      <th>79</th>\n",
       "      <td>Faroe Islands</td>\n",
       "      <td>14</td>\n",
       "    </tr>\n",
       "    <tr>\n",
       "      <th>116</th>\n",
       "      <td>Isle of Man</td>\n",
       "      <td>16</td>\n",
       "    </tr>\n",
       "    <tr>\n",
       "      <th>44</th>\n",
       "      <td>Channel Islands</td>\n",
       "      <td>16</td>\n",
       "    </tr>\n",
       "    <tr>\n",
       "      <th>...</th>\n",
       "      <td>...</td>\n",
       "      <td>...</td>\n",
       "    </tr>\n",
       "    <tr>\n",
       "      <th>250</th>\n",
       "      <td>Ukraine</td>\n",
       "      <td>86</td>\n",
       "    </tr>\n",
       "    <tr>\n",
       "      <th>203</th>\n",
       "      <td>Rwanda</td>\n",
       "      <td>86</td>\n",
       "    </tr>\n",
       "    <tr>\n",
       "      <th>188</th>\n",
       "      <td>Pakistan</td>\n",
       "      <td>86</td>\n",
       "    </tr>\n",
       "    <tr>\n",
       "      <th>18</th>\n",
       "      <td>Bangladesh</td>\n",
       "      <td>87</td>\n",
       "    </tr>\n",
       "    <tr>\n",
       "      <th>208</th>\n",
       "      <td>Senegal</td>\n",
       "      <td>87</td>\n",
       "    </tr>\n",
       "  </tbody>\n",
       "</table>\n",
       "<p>266 rows × 2 columns</p>\n",
       "</div>"
      ],
      "text/plain": [
       "                 Country Name  Count\n",
       "183            Not classified      0\n",
       "227  St. Martin (French part)     11\n",
       "79              Faroe Islands     14\n",
       "116               Isle of Man     16\n",
       "44            Channel Islands     16\n",
       "..                        ...    ...\n",
       "250                   Ukraine     86\n",
       "203                    Rwanda     86\n",
       "188                  Pakistan     86\n",
       "18                 Bangladesh     87\n",
       "208                   Senegal     87\n",
       "\n",
       "[266 rows x 2 columns]"
      ]
     },
     "execution_count": 14,
     "metadata": {},
     "output_type": "execute_result"
    }
   ],
   "source": [
    "result_df"
   ]
  },
  {
   "cell_type": "code",
   "execution_count": 33,
   "metadata": {},
   "outputs": [],
   "source": [
    "counts_country = result_df.groupby(by=['Count']).size().reset_index(name='Number of Countries')"
   ]
  },
  {
   "cell_type": "code",
   "execution_count": 34,
   "metadata": {},
   "outputs": [
    {
     "data": {
      "text/html": [
       "<div>\n",
       "<style scoped>\n",
       "    .dataframe tbody tr th:only-of-type {\n",
       "        vertical-align: middle;\n",
       "    }\n",
       "\n",
       "    .dataframe tbody tr th {\n",
       "        vertical-align: top;\n",
       "    }\n",
       "\n",
       "    .dataframe thead th {\n",
       "        text-align: right;\n",
       "    }\n",
       "</style>\n",
       "<table border=\"1\" class=\"dataframe\">\n",
       "  <thead>\n",
       "    <tr style=\"text-align: right;\">\n",
       "      <th></th>\n",
       "      <th>Count</th>\n",
       "      <th>Number of Countries</th>\n",
       "    </tr>\n",
       "  </thead>\n",
       "  <tbody>\n",
       "    <tr>\n",
       "      <th>0</th>\n",
       "      <td>0</td>\n",
       "      <td>1</td>\n",
       "    </tr>\n",
       "    <tr>\n",
       "      <th>1</th>\n",
       "      <td>11</td>\n",
       "      <td>1</td>\n",
       "    </tr>\n",
       "    <tr>\n",
       "      <th>2</th>\n",
       "      <td>14</td>\n",
       "      <td>1</td>\n",
       "    </tr>\n",
       "    <tr>\n",
       "      <th>3</th>\n",
       "      <td>16</td>\n",
       "      <td>6</td>\n",
       "    </tr>\n",
       "    <tr>\n",
       "      <th>4</th>\n",
       "      <td>17</td>\n",
       "      <td>1</td>\n",
       "    </tr>\n",
       "    <tr>\n",
       "      <th>...</th>\n",
       "      <td>...</td>\n",
       "      <td>...</td>\n",
       "    </tr>\n",
       "    <tr>\n",
       "      <th>58</th>\n",
       "      <td>83</td>\n",
       "      <td>10</td>\n",
       "    </tr>\n",
       "    <tr>\n",
       "      <th>59</th>\n",
       "      <td>84</td>\n",
       "      <td>14</td>\n",
       "    </tr>\n",
       "    <tr>\n",
       "      <th>60</th>\n",
       "      <td>85</td>\n",
       "      <td>16</td>\n",
       "    </tr>\n",
       "    <tr>\n",
       "      <th>61</th>\n",
       "      <td>86</td>\n",
       "      <td>8</td>\n",
       "    </tr>\n",
       "    <tr>\n",
       "      <th>62</th>\n",
       "      <td>87</td>\n",
       "      <td>2</td>\n",
       "    </tr>\n",
       "  </tbody>\n",
       "</table>\n",
       "<p>63 rows × 2 columns</p>\n",
       "</div>"
      ],
      "text/plain": [
       "    Count  Number of Countries\n",
       "0       0                    1\n",
       "1      11                    1\n",
       "2      14                    1\n",
       "3      16                    6\n",
       "4      17                    1\n",
       "..    ...                  ...\n",
       "58     83                   10\n",
       "59     84                   14\n",
       "60     85                   16\n",
       "61     86                    8\n",
       "62     87                    2\n",
       "\n",
       "[63 rows x 2 columns]"
      ]
     },
     "execution_count": 34,
     "metadata": {},
     "output_type": "execute_result"
    }
   ],
   "source": [
    "counts_country"
   ]
  },
  {
   "cell_type": "code",
   "execution_count": 10,
   "metadata": {},
   "outputs": [],
   "source": [
    "# Group by country and sum the counts\n",
    "result_df = count_df.groupby('Indicator Name')['count'].sum().reset_index()"
   ]
  },
  {
   "cell_type": "code",
   "execution_count": null,
   "metadata": {},
   "outputs": [
    {
     "data": {
      "image/png": "[encoded data removed]",
      "text/plain": [
       "<Figure size 1200x600 with 1 Axes>"
      ]
     },
     "metadata": {},
     "output_type": "display_data"
    }
   ],
   "source": [
    "import matplotlib.pyplot as plt\n",
    "import seaborn as sns\n",
    "import numpy as np\n",
    "\n",
    "sns.set_style(\"darkgrid\")\n",
    "\n",
    "plt.figure(figsize=(12, 6))\n",
    "\n",
    "ax = sns.boxplot(x=result_df['Count'], orient='h', color='skyblue', linewidth=2.5, width=0.5, fliersize=8, boxprops=dict(facecolor=\"lightblue\"))\n",
    "\n",
    "# Compute statistics\n",
    "Q1 = result_df['Count'].quantile(0.25)\n",
    "median = result_df['Count'].median()\n",
    "Q3 = result_df['Count'].quantile(0.75)\n",
    "mean_value = result_df['Count'].mean()\n",
    "max_value = result_df['Count'].max()\n",
    "\n",
    "# Define IQR and whiskers\n",
    "IQR = Q3 - Q1\n",
    "lower_whisker = result_df['Count'][result_df['Count'] >= (Q1 - 1.5 * IQR)].min()  # Left tail (lower whisker)\n",
    "upper_bound = Q3 + 1.5 * IQR\n",
    "\n",
    "# Identify outliers\n",
    "outliers = result_df[result_df['Count'] > upper_bound]  # Upper outliers\n",
    "\n",
    "# Function to retrieve country count from counts_country\n",
    "def get_country_count(value):\n",
    "    row = counts_country[counts_country['Count'] == value]\n",
    "    return row['Number of Countries'].values[0] if not row.empty else 0\n",
    "\n",
    "# Label \"Not Classified\" if it exists\n",
    "if \"Not Classified\" in result_df['Country Name'].values:\n",
    "    not_classified_row = result_df[result_df['Country Name'] == \"Not Classified\"]\n",
    "    plt.text(not_classified_row['Count'].values[0], 0.3, \"Not Classified\", fontsize=10, color='red', ha='center', fontweight='bold')\n",
    "\n",
    "# Label the country with a count of zero if it exists\n",
    "zero_count_row = result_df[result_df['Count'] == 0]\n",
    "if not zero_count_row.empty:\n",
    "    zero_country_name = zero_count_row['Country Name'].values[0]\n",
    "    plt.text(0, 0.4, f\"{zero_country_name} (Zero Count)\", fontsize=10, color='red', ha='center', fontweight='bold')\n",
    "\n",
    "# Dynamic y-offsets for spacing\n",
    "y_offsets = [-0.4, -0.25, -0.1, 0.1, 0.25, 0.4]  \n",
    "\n",
    "for i, (val, color, label) in enumerate(zip(\n",
    "    [lower_whisker, Q1, median, Q3, max_value, mean_value], \n",
    "    ['red', 'blue', 'purple', 'blue', 'red', 'green'], \n",
    "    ['Left Tail', 'Q1 (25%)', 'Median (50%)', 'Q3 (75%)', 'Max', r'$\\hat{\\mu}$ (Mean)']\n",
    ")):\n",
    "    country_count = get_country_count(int(val))  \n",
    "    label_text = f\"{label}: {val:.1f} ({country_count} countries)\" \n",
    "\n",
    "    plt.axvline(val, color=color, linestyle=\"dotted\", linewidth=2)\n",
    "    plt.text(val, y_offsets[i], label_text, fontsize=11, color=color, ha='center', \n",
    "             bbox=dict(facecolor='white', edgecolor=color, boxstyle='round,pad=0.3'))\n",
    "\n",
    "# Annotate outliers with country names \n",
    "for index, row in outliers.iterrows():\n",
    "    plt.text(row['Count'], 0.1, row['Country Name'], fontsize=9, color='red', ha='center', rotation=30, \n",
    "             bbox=dict(facecolor='white', edgecolor='red', boxstyle='round,pad=0.2'))\n",
    "\n",
    "plt.xlabel('Number of Indicators Used by Country', fontsize=12, fontweight='bold', color='darkblue')\n",
    "plt.title('Distribution of Indicators Used per Country (Enhanced Boxplot)', fontsize=14, fontweight='bold', color='darkblue')\n",
    "\n",
    "plt.grid(axis='x', linestyle='--', alpha=0.7)\n",
    "\n",
    "plt.show()\n"
   ]
  },
  {
   "cell_type": "code",
   "execution_count": 6,
   "metadata": {},
   "outputs": [
    {
     "name": "stdout",
     "output_type": "stream",
     "text": [
      "62.778195488721806\n"
     ]
    }
   ],
   "source": [
    "average_count = result_df['Count'].mean()\n",
    "print(average_count)\n"
   ]
  },
  {
   "cell_type": "code",
   "execution_count": null,
   "metadata": {},
   "outputs": [
    {
     "data": {
      "image/png": "[encoded data removed]",
      "text/plain": [
       "<Figure size 1500x1000 with 1 Axes>"
      ]
     },
     "metadata": {},
     "output_type": "display_data"
    }
   ],
   "source": [
    "import matplotlib.pyplot as plt\n",
    "\n",
    "tmp = result_df[result_df['Count'] < 40]\n",
    "\n",
    "plt.figure(figsize=(15, 10))\n",
    "bars = plt.bar(tmp['Country Name'], tmp['Count'], color='skyblue', edgecolor='black')\n",
    "\n",
    "for bar in bars:\n",
    "    height = bar.get_height()\n",
    "    plt.text(bar.get_x() + bar.get_width() / 2, height, f'{height}', ha='center', va='bottom')\n",
    "\n",
    "plt.title('Counts per Country in tmp')\n",
    "plt.xlabel('Country Name')\n",
    "plt.ylabel('Count')\n",
    "\n",
    "# Rotate x-axis labels for better readability\n",
    "plt.xticks(rotation=90)\n",
    "plt.tight_layout()\n",
    "\n",
    "plt.show()\n"
   ]
  },
  {
   "cell_type": "markdown",
   "metadata": {},
   "source": [
    "## End of Temp analysis to check null indicator per country"
   ]
  },
  {
   "cell_type": "markdown",
   "metadata": {},
   "source": [
    "## Temp analysis for indicators"
   ]
  },
  {
   "cell_type": "code",
   "execution_count": 8,
   "metadata": {},
   "outputs": [],
   "source": [
    "# Create a new dataframe to store the count of non-null values for each indicator\n",
    "indicator_count_df = df[['Indicator Name'] + years_col].copy()\n",
    "\n",
    "# Count the number of non-null values for each row (indicator) across the specified years\n",
    "indicator_count_df['non_null_count'] = indicator_count_df[years_col].notnull().sum(axis=1)\n",
    "\n",
    "# Convert the count to 1 if all years are non-null, otherwise 0\n",
    "indicator_count_df['count'] = indicator_count_df['non_null_count'].apply(lambda x: 1 if x == len(years_col) else 0)\n",
    "\n",
    "# Group by indicator and sum the counts\n",
    "indicator_result_df = indicator_count_df.groupby('Indicator Name')['count'].sum().reset_index()\n",
    "\n",
    "# Rename columns\n",
    "indicator_result_df.columns = ['Indicator Name', 'Country Count']\n",
    "indicator_result_df.sort_values(by='Country Count', ascending=False, inplace=True)"
   ]
  },
  {
   "cell_type": "code",
   "execution_count": 9,
   "metadata": {},
   "outputs": [],
   "source": [
    "Indicators = pd.read_csv('./data/Indicators_final.csv')\n",
    "Indicators = Indicators[Indicators['DOES A HIGHER VALUE INCREASE POVERTY?'] != 'TBD']\n",
    "indicator_result_df = indicator_result_df[indicator_result_df['Indicator Name'].isin(Indicators['INDICATOR NAMES'].tolist())]"
   ]
  },
  {
   "cell_type": "code",
   "execution_count": 10,
   "metadata": {},
   "outputs": [
    {
     "data": {
      "text/plain": [
       "count     78.000000\n",
       "mean     186.025641\n",
       "std       60.265856\n",
       "min       35.000000\n",
       "25%      138.500000\n",
       "50%      201.000000\n",
       "75%      235.000000\n",
       "max      265.000000\n",
       "Name: Country Count, dtype: float64"
      ]
     },
     "execution_count": 10,
     "metadata": {},
     "output_type": "execute_result"
    }
   ],
   "source": [
    "indicator_result_df['Country Count'].describe()"
   ]
  },
  {
   "cell_type": "code",
   "execution_count": 11,
   "metadata": {},
   "outputs": [],
   "source": [
    "indicator_result_df['Normalized Count'] = (indicator_result_df['Country Count']) / (265)\n"
   ]
  },
  {
   "cell_type": "code",
   "execution_count": 12,
   "metadata": {},
   "outputs": [
    {
     "data": {
      "text/html": [
       "<div>\n",
       "<style scoped>\n",
       "    .dataframe tbody tr th:only-of-type {\n",
       "        vertical-align: middle;\n",
       "    }\n",
       "\n",
       "    .dataframe tbody tr th {\n",
       "        vertical-align: top;\n",
       "    }\n",
       "\n",
       "    .dataframe thead th {\n",
       "        text-align: right;\n",
       "    }\n",
       "</style>\n",
       "<table border=\"1\" class=\"dataframe\">\n",
       "  <thead>\n",
       "    <tr style=\"text-align: right;\">\n",
       "      <th></th>\n",
       "      <th>Indicator Name</th>\n",
       "      <th>Country Count</th>\n",
       "      <th>Normalized Count</th>\n",
       "    </tr>\n",
       "  </thead>\n",
       "  <tbody>\n",
       "    <tr>\n",
       "      <th>18</th>\n",
       "      <td>Age dependency ratio, young (% of working-age ...</td>\n",
       "      <td>265</td>\n",
       "      <td>1.000000</td>\n",
       "    </tr>\n",
       "    <tr>\n",
       "      <th>17</th>\n",
       "      <td>Age dependency ratio, old (% of working-age po...</td>\n",
       "      <td>265</td>\n",
       "      <td>1.000000</td>\n",
       "    </tr>\n",
       "    <tr>\n",
       "      <th>16</th>\n",
       "      <td>Age dependency ratio (% of working-age populat...</td>\n",
       "      <td>265</td>\n",
       "      <td>1.000000</td>\n",
       "    </tr>\n",
       "    <tr>\n",
       "      <th>12</th>\n",
       "      <td>Adolescent fertility rate (births per 1,000 wo...</td>\n",
       "      <td>265</td>\n",
       "      <td>1.000000</td>\n",
       "    </tr>\n",
       "    <tr>\n",
       "      <th>64</th>\n",
       "      <td>People using at least basic drinking water ser...</td>\n",
       "      <td>263</td>\n",
       "      <td>0.992453</td>\n",
       "    </tr>\n",
       "    <tr>\n",
       "      <th>...</th>\n",
       "      <td>...</td>\n",
       "      <td>...</td>\n",
       "      <td>...</td>\n",
       "    </tr>\n",
       "    <tr>\n",
       "      <th>30</th>\n",
       "      <td>Children in employment, wage workers, male (% ...</td>\n",
       "      <td>90</td>\n",
       "      <td>0.339623</td>\n",
       "    </tr>\n",
       "    <tr>\n",
       "      <th>85</th>\n",
       "      <td>Wanted fertility rate (births per woman)</td>\n",
       "      <td>81</td>\n",
       "      <td>0.305660</td>\n",
       "    </tr>\n",
       "    <tr>\n",
       "      <th>74</th>\n",
       "      <td>Teenage mothers (% of women ages 15-19 who hav...</td>\n",
       "      <td>77</td>\n",
       "      <td>0.290566</td>\n",
       "    </tr>\n",
       "    <tr>\n",
       "      <th>40</th>\n",
       "      <td>Community health workers (per 1,000 people)</td>\n",
       "      <td>74</td>\n",
       "      <td>0.279245</td>\n",
       "    </tr>\n",
       "    <tr>\n",
       "      <th>9</th>\n",
       "      <td>Adequacy of unemployment benefits and ALMP (% ...</td>\n",
       "      <td>35</td>\n",
       "      <td>0.132075</td>\n",
       "    </tr>\n",
       "  </tbody>\n",
       "</table>\n",
       "<p>78 rows × 3 columns</p>\n",
       "</div>"
      ],
      "text/plain": [
       "                                       Indicator Name  Country Count  \\\n",
       "18  Age dependency ratio, young (% of working-age ...            265   \n",
       "17  Age dependency ratio, old (% of working-age po...            265   \n",
       "16  Age dependency ratio (% of working-age populat...            265   \n",
       "12  Adolescent fertility rate (births per 1,000 wo...            265   \n",
       "64  People using at least basic drinking water ser...            263   \n",
       "..                                                ...            ...   \n",
       "30  Children in employment, wage workers, male (% ...             90   \n",
       "85           Wanted fertility rate (births per woman)             81   \n",
       "74  Teenage mothers (% of women ages 15-19 who hav...             77   \n",
       "40        Community health workers (per 1,000 people)             74   \n",
       "9   Adequacy of unemployment benefits and ALMP (% ...             35   \n",
       "\n",
       "    Normalized Count  \n",
       "18          1.000000  \n",
       "17          1.000000  \n",
       "16          1.000000  \n",
       "12          1.000000  \n",
       "64          0.992453  \n",
       "..               ...  \n",
       "30          0.339623  \n",
       "85          0.305660  \n",
       "74          0.290566  \n",
       "40          0.279245  \n",
       "9           0.132075  \n",
       "\n",
       "[78 rows x 3 columns]"
      ]
     },
     "execution_count": 12,
     "metadata": {},
     "output_type": "execute_result"
    }
   ],
   "source": [
    "indicator_result_df"
   ]
  },
  {
   "cell_type": "code",
   "execution_count": 13,
   "metadata": {},
   "outputs": [
    {
     "data": {
      "text/html": [
       "<div>\n",
       "<style scoped>\n",
       "    .dataframe tbody tr th:only-of-type {\n",
       "        vertical-align: middle;\n",
       "    }\n",
       "\n",
       "    .dataframe tbody tr th {\n",
       "        vertical-align: top;\n",
       "    }\n",
       "\n",
       "    .dataframe thead th {\n",
       "        text-align: right;\n",
       "    }\n",
       "</style>\n",
       "<table border=\"1\" class=\"dataframe\">\n",
       "  <thead>\n",
       "    <tr style=\"text-align: right;\">\n",
       "      <th></th>\n",
       "      <th>Country Name</th>\n",
       "      <th>Country Code</th>\n",
       "      <th>Indicator Name</th>\n",
       "      <th>Topic</th>\n",
       "      <th>short description</th>\n",
       "      <th>long description</th>\n",
       "      <th>Indicator Code</th>\n",
       "      <th>Unit of measure</th>\n",
       "      <th>2000</th>\n",
       "      <th>2001</th>\n",
       "      <th>...</th>\n",
       "      <th>2014</th>\n",
       "      <th>2015</th>\n",
       "      <th>2016</th>\n",
       "      <th>2017</th>\n",
       "      <th>2018</th>\n",
       "      <th>2019</th>\n",
       "      <th>2020</th>\n",
       "      <th>2021</th>\n",
       "      <th>2022</th>\n",
       "      <th>2023</th>\n",
       "    </tr>\n",
       "  </thead>\n",
       "  <tbody>\n",
       "    <tr>\n",
       "      <th>22874</th>\n",
       "      <td>Africa Eastern and Southern</td>\n",
       "      <td>AFE</td>\n",
       "      <td>Population, total</td>\n",
       "      <td>Health: Population: Structure</td>\n",
       "      <td>NaN</td>\n",
       "      <td>Total population is based on the de facto defi...</td>\n",
       "      <td>SP.POP.TOTL</td>\n",
       "      <td>0</td>\n",
       "      <td>401600588.0</td>\n",
       "      <td>412001885.0</td>\n",
       "      <td>...</td>\n",
       "      <td>583651101.0</td>\n",
       "      <td>600008424.0</td>\n",
       "      <td>616377605.0</td>\n",
       "      <td>632746570.0</td>\n",
       "      <td>649757148.0</td>\n",
       "      <td>667242986.0</td>\n",
       "      <td>685112979.0</td>\n",
       "      <td>702977106.0</td>\n",
       "      <td>720859132.0</td>\n",
       "      <td>739108306.0</td>\n",
       "    </tr>\n",
       "  </tbody>\n",
       "</table>\n",
       "<p>1 rows × 32 columns</p>\n",
       "</div>"
      ],
      "text/plain": [
       "                      Country Name Country Code     Indicator Name  \\\n",
       "22874  Africa Eastern and Southern          AFE  Population, total   \n",
       "\n",
       "                               Topic short description  \\\n",
       "22874  Health: Population: Structure               NaN   \n",
       "\n",
       "                                        long description Indicator Code  \\\n",
       "22874  Total population is based on the de facto defi...    SP.POP.TOTL   \n",
       "\n",
       "      Unit of measure         2000         2001  ...         2014  \\\n",
       "22874               0  401600588.0  412001885.0  ...  583651101.0   \n",
       "\n",
       "              2015         2016         2017         2018         2019  \\\n",
       "22874  600008424.0  616377605.0  632746570.0  649757148.0  667242986.0   \n",
       "\n",
       "              2020         2021         2022         2023  \n",
       "22874  685112979.0  702977106.0  720859132.0  739108306.0  \n",
       "\n",
       "[1 rows x 32 columns]"
      ]
     },
     "execution_count": 13,
     "metadata": {},
     "output_type": "execute_result"
    }
   ],
   "source": [
    "df[df['Indicator Name'] =='Population, total'] ## removed this country because for this indicator there is one country "
   ]
  },
  {
   "cell_type": "code",
   "execution_count": 14,
   "metadata": {},
   "outputs": [],
   "source": [
    "indicator_result_df.to_csv('indicator_result_df.csv', index=False)"
   ]
  },
  {
   "cell_type": "code",
   "execution_count": null,
   "metadata": {},
   "outputs": [
    {
     "name": "stdout",
     "output_type": "stream",
     "text": [
      "    Country Count  Count\n",
      "0              97      7\n",
      "1             235      6\n",
      "2             201      4\n",
      "3             190      4\n",
      "4             203      4\n",
      "5             265      4\n",
      "6             263      4\n",
      "7             237      3\n",
      "8             205      3\n",
      "9              90      3\n",
      "10            238      2\n",
      "11            198      2\n",
      "12            215      2\n",
      "13            214      2\n",
      "14            184      2\n",
      "15            261      2\n",
      "16            250      1\n",
      "17            245      1\n",
      "18            241      1\n",
      "19            232      1\n",
      "20            202      1\n",
      "21            199      1\n",
      "22             35      1\n",
      "23            196      1\n",
      "24            137      1\n",
      "25             77      1\n",
      "26             81      1\n",
      "27            109      1\n",
      "28            110      1\n",
      "29            111      1\n",
      "30            122      1\n",
      "31            138      1\n",
      "32             74      1\n",
      "33            140      1\n",
      "34            156      1\n",
      "35            160      1\n",
      "36            165      1\n",
      "37            166      1\n",
      "38            178      1\n",
      "39            193      1\n"
     ]
    }
   ],
   "source": [
    "# Group by 'Country Count', count the occurrences, sort descending\n",
    "grouped = indicator_result_df.groupby('Country Count').size().sort_values(ascending=False)\n",
    "\n",
    "# Convert to DataFrame if needed\n",
    "grouped_df = grouped.reset_index(name='Count')\n",
    "\n",
    "pd.set_option('display.max_rows', None)\n",
    "\n",
    "print(grouped_df)\n"
   ]
  },
  {
   "cell_type": "code",
   "execution_count": 16,
   "metadata": {},
   "outputs": [
    {
     "data": {
      "text/html": [
       "<div>\n",
       "<style scoped>\n",
       "    .dataframe tbody tr th:only-of-type {\n",
       "        vertical-align: middle;\n",
       "    }\n",
       "\n",
       "    .dataframe tbody tr th {\n",
       "        vertical-align: top;\n",
       "    }\n",
       "\n",
       "    .dataframe thead th {\n",
       "        text-align: right;\n",
       "    }\n",
       "</style>\n",
       "<table border=\"1\" class=\"dataframe\">\n",
       "  <thead>\n",
       "    <tr style=\"text-align: right;\">\n",
       "      <th></th>\n",
       "      <th>Country Name</th>\n",
       "      <th>Country Code</th>\n",
       "      <th>Indicator Name</th>\n",
       "      <th>Topic</th>\n",
       "      <th>short description</th>\n",
       "      <th>long description</th>\n",
       "      <th>Indicator Code</th>\n",
       "      <th>Unit of measure</th>\n",
       "      <th>2000</th>\n",
       "      <th>2001</th>\n",
       "      <th>...</th>\n",
       "      <th>2014</th>\n",
       "      <th>2015</th>\n",
       "      <th>2016</th>\n",
       "      <th>2017</th>\n",
       "      <th>2018</th>\n",
       "      <th>2019</th>\n",
       "      <th>2020</th>\n",
       "      <th>2021</th>\n",
       "      <th>2022</th>\n",
       "      <th>2023</th>\n",
       "    </tr>\n",
       "  </thead>\n",
       "  <tbody>\n",
       "    <tr>\n",
       "      <th>22874</th>\n",
       "      <td>Africa Eastern and Southern</td>\n",
       "      <td>AFE</td>\n",
       "      <td>Population, total</td>\n",
       "      <td>Health: Population: Structure</td>\n",
       "      <td>NaN</td>\n",
       "      <td>Total population is based on the de facto defi...</td>\n",
       "      <td>SP.POP.TOTL</td>\n",
       "      <td>0</td>\n",
       "      <td>401600588.0</td>\n",
       "      <td>412001885.0</td>\n",
       "      <td>...</td>\n",
       "      <td>583651101.0</td>\n",
       "      <td>600008424.0</td>\n",
       "      <td>616377605.0</td>\n",
       "      <td>632746570.0</td>\n",
       "      <td>649757148.0</td>\n",
       "      <td>667242986.0</td>\n",
       "      <td>685112979.0</td>\n",
       "      <td>702977106.0</td>\n",
       "      <td>720859132.0</td>\n",
       "      <td>739108306.0</td>\n",
       "    </tr>\n",
       "  </tbody>\n",
       "</table>\n",
       "<p>1 rows × 32 columns</p>\n",
       "</div>"
      ],
      "text/plain": [
       "                      Country Name Country Code     Indicator Name  \\\n",
       "22874  Africa Eastern and Southern          AFE  Population, total   \n",
       "\n",
       "                               Topic short description  \\\n",
       "22874  Health: Population: Structure               NaN   \n",
       "\n",
       "                                        long description Indicator Code  \\\n",
       "22874  Total population is based on the de facto defi...    SP.POP.TOTL   \n",
       "\n",
       "      Unit of measure         2000         2001  ...         2014  \\\n",
       "22874               0  401600588.0  412001885.0  ...  583651101.0   \n",
       "\n",
       "              2015         2016         2017         2018         2019  \\\n",
       "22874  600008424.0  616377605.0  632746570.0  649757148.0  667242986.0   \n",
       "\n",
       "              2020         2021         2022         2023  \n",
       "22874  685112979.0  702977106.0  720859132.0  739108306.0  \n",
       "\n",
       "[1 rows x 32 columns]"
      ]
     },
     "execution_count": 16,
     "metadata": {},
     "output_type": "execute_result"
    }
   ],
   "source": [
    "df[df['Indicator Name']=='Population, total']"
   ]
  },
  {
   "cell_type": "markdown",
   "metadata": {},
   "source": [
    "## End of temp analysis for indicators"
   ]
  }
 ],
 "metadata": {
  "kernelspec": {
   "display_name": "Python 3",
   "language": "python",
   "name": "python3"
  },
  "language_info": {
   "codemirror_mode": {
    "name": "ipython",
    "version": 3
   },
   "file_extension": ".py",
   "mimetype": "text/x-python",
   "name": "python",
   "nbconvert_exporter": "python",
   "pygments_lexer": "ipython3",
   "version": "3.12.2"
  }
 },
 "nbformat": 4,
 "nbformat_minor": 2
}
